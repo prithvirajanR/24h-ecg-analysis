{
  "nbformat": 4,
  "nbformat_minor": 0,
  "metadata": {
    "colab": {
      "provenance": [],
      "include_colab_link": true
    },
    "kernelspec": {
      "name": "python3",
      "display_name": "Python 3"
    },
    "language_info": {
      "name": "python"
    }
  },
  "cells": [
    {
      "cell_type": "markdown",
      "metadata": {
        "id": "view-in-github",
        "colab_type": "text"
      },
      "source": [
        "<a href=\"https://colab.research.google.com/github/prithvirajanR/24h-ecg-analysis/blob/main/HyperbolicGNN.ipynb\" target=\"_parent\"><img src=\"https://colab.research.google.com/assets/colab-badge.svg\" alt=\"Open In Colab\"/></a>"
      ]
    },
    {
      "cell_type": "markdown",
      "source": [
        "# Hyperbolic Graph Neural Networks\n",
        "\n",
        "This notebook is part of the lab semiar [Machine Learning and AI in the Life Sciences: Methods and Applications](https://www.fu-berlin.de/vv/de/lv/935203) at Freie Universität Berlin.\n",
        "\n",
        "In this practical we will implement a hyperbolic graph convolutional network. As last week we will apply it to the problem of graph-level prediction of the properties of drug-like molecules."
      ],
      "metadata": {
        "id": "d7vK6_q8FxbJ"
      }
    },
    {
      "cell_type": "markdown",
      "source": [
        "## Setup environment\n",
        "\n",
        "Let's install the required python packages. We will be working with the [`jax` library](https://docs.jax.dev/en/latest/index.html) and its ecosystem of deep learning tools. For hyperbolic space we use the [`Morphomatics` library](https://morphomatics.github.io/)"
      ],
      "metadata": {
        "id": "FHHM4XU_t-MG"
      }
    },
    {
      "cell_type": "code",
      "source": [
        "%%capture\n",
        "!pip install ipdb\n",
        "!pip install jax jraph flax optax torch-geometric\n",
        "!pip install morphomatics"
      ],
      "metadata": {
        "collapsed": true,
        "id": "bT8RbCqPTsLt"
      },
      "execution_count": null,
      "outputs": []
    },
    {
      "cell_type": "markdown",
      "source": [
        "# QM9 Dataset\n",
        "\n",
        "We will work with the QM9 dataset that is a benchmark database used in machine learning for molecular properties. It contains data for 133k small organic molecules with 19 regression targets. We can use the PyG libraray to load the molecules as graphs equpped with a number of pre-computed features:\n",
        "\n",
        "**Atom features (`G.x`)** - $\\mathbb{R}^{|V| \\times 11}$\n",
        "- 1st-5th features: Atom type (one-hot: H, C, N, O, F)\n",
        "- 6th feature (also `data.z`): Atomic number (number of protons).\n",
        "- 7th feature: Aromatic (binary)\n",
        "- 8th-10th features: Electron orbital hybridization (one-hot: sp, sp2, sp3)\n",
        "- 11th feature: Number of hydrogens\n",
        "\n",
        "**Edge Index (`G.edge_index`)** - $\\mathbb{R}^{2×|E|}$\n",
        "- A tensor of dimensions 2 x `G.num_edges` that describe the edge connectivity of the graph\n",
        "\n",
        "**Edge features (`G.edge_attr`)** - $\\mathbb{R}^{|E|\\times 4}$\n",
        "- 1st-4th features: bond type (one-hot: single, double, triple, aromatic)\n",
        "\n",
        "**Atom positions (`G.pos`)** - $\\mathbb{R}^{|V|\\times 3}$\n",
        "- 3D coordinates of each atom.\n",
        "\n",
        "**Target (`G.y`)** - $\\mathbb{R}^{19}$\n",
        "\n",
        "| Target | Property                      | Unit         | Description                                              |\n",
        "|--------|-------------------------------|--------------|----------------------------------------------------------|\n",
        "| 0      | $\\mu$                         | D            | Dipole moment                                            |\n",
        "| 1      | $\\alpha$                      | $a_0^3$      | Isotropic polarizability                                |\n",
        "| 2      | $\\epsilon_{\\textrm{HOMO}}$    | eV           | Highest occupied molecular orbital energy                |\n",
        "| 3      | $\\epsilon_{\\textrm{LUMO}}$    | eV           | Lowest unoccupied molecular orbital energy               |\n",
        "| 4      | $\\Delta \\epsilon$             | eV           | Gap between $\\epsilon_{\\textrm{HOMO}}$ and $\\epsilon_{\\textrm{LUMO}}$ |\n",
        "| 5      | $\\langle R^2 \\rangle$         | $a_0^2$      | Electronic spatial extent                                |\n",
        "| 6      | ZPVE                          | eV           | Zero point vibrational energy                            |\n",
        "| 7      | $U_0$                         | eV           | Internal energy at 0K                                    |\n",
        "| 8      | $U$                           | eV           | Internal energy at 298.15K                               |\n",
        "| 9      | $H$                           | eV           | Enthalpy at 298.15K                                      |\n",
        "| 10     | $G$                           | eV           | Free energy at 298.15K                                   |\n",
        "| 11     | $c_{\\textrm{v}}$              | cal/mol·K    | Heat capacity at 298.15K                                 |\n",
        "| 12     | $U_0^{\\textrm{ATOM}}$         | eV           | Atomization energy at 0K                                 |\n",
        "| 13     | $U^{\\textrm{ATOM}}$           | eV           | Atomization energy at 298.15K                            |\n",
        "| 14     | $H^{\\textrm{ATOM}}$           | eV           | Atomization enthalpy at 298.15K                          |\n",
        "| 15     | $G^{\\textrm{ATOM}}$           | eV           | Atomization free energy at 298.15K                       |\n",
        "| 16     | $A$                           | GHz          | Rotational constant                                      |\n",
        "| 17     | $B$                           | GHz          | Rotational constant                                      |\n",
        "| 18     | $C$                           | GHz          | Rotational constant                                      |\n",
        "\n"
      ],
      "metadata": {
        "id": "MqO-g0xwGv4P"
      }
    },
    {
      "cell_type": "code",
      "source": [
        "from typing import NamedTuple\n",
        "\n",
        "import torch\n",
        "from torch_geometric.datasets import QM9\n",
        "import torch_geometric.transforms as T\n",
        "from torch_geometric.utils import remove_self_loops\n",
        "\n",
        "import numpy as np\n",
        "import jax\n",
        "import jax.numpy as jnp\n",
        "\n",
        "class SetTarget(NamedTuple):\n",
        "    target: int = 0\n",
        "    \"\"\"\n",
        "    Only keep the label for a specific target (there are 19 targets in QM9).\n",
        "    \"\"\"\n",
        "    def __call__(self, data):\n",
        "        data.y = data.y[:, self.target]\n",
        "        return data\n",
        "\n",
        "# Transforms which are applied during data loading:\n",
        "transform = SetTarget(0)\n",
        "\n",
        "# Define our dataset, using torch datasets\n",
        "qm9_dataset = QM9('./qm9/', transform=transform)\n",
        "print(f\"Total number of samples: {len(qm9_dataset)}.\")\n",
        "\n",
        "# Split datasets (subset of full dataset for efficiency)\n",
        "train_dataset = qm9_dataset[:1000]\n",
        "val_dataset = qm9_dataset[1000:2000]\n",
        "test_dataset = qm9_dataset[2000:3000]\n",
        "print(f\"Created dataset splits with {len(train_dataset)} training, {len(val_dataset)} validation, {len(test_dataset)} test samples.\")\n"
      ],
      "metadata": {
        "id": "DzLRbSgWGz0d",
        "colab": {
          "base_uri": "https://localhost:8080/"
        },
        "outputId": "c1087424-2800-4266-b3dd-97ca12b9fdd6"
      },
      "execution_count": null,
      "outputs": [
        {
          "output_type": "stream",
          "name": "stderr",
          "text": [
            "Downloading https://data.pyg.org/datasets/qm9_v3.zip\n",
            "Extracting qm9/raw/qm9_v3.zip\n",
            "Processing...\n",
            "Using a pre-processed version of the dataset. Please install 'rdkit' to alternatively process the raw data.\n",
            "Done!\n"
          ]
        },
        {
          "output_type": "stream",
          "name": "stdout",
          "text": [
            "Total number of samples: 130831.\n",
            "Created dataset splits with 1000 training, 1000 validation, 1000 test samples.\n"
          ]
        }
      ]
    },
    {
      "cell_type": "code",
      "source": [
        "import torch_geometric\n",
        "from typing import List, Generator\n",
        "from torch.utils.data import DataLoader, default_collate\n",
        "\n",
        "import jraph\n",
        "\n",
        "BATCH_SIZE = 32\n",
        "MAX_NUM_NODES = 29\n",
        "MAX_NUM_EDGES = 56\n",
        "TYPE = jnp.float32\n",
        "\n",
        "def jraph_iterate(data: List[torch_geometric.data.Data]) -> Generator[jraph.GraphsTuple, None, None]:\n",
        "    for G in data:\n",
        "        yield jraph.GraphsTuple(\n",
        "            n_node=jnp.asarray([G.num_nodes]),\n",
        "            n_edge=jnp.asarray([G.num_edges]),\n",
        "            nodes=jnp.asarray(G.x, dtype=TYPE),\n",
        "            edges=jnp.ones(G.num_edges, dtype=TYPE),\n",
        "            globals=jnp.asarray([G.y], dtype=TYPE),\n",
        "            senders=jnp.asarray(G.edge_index[0]),\n",
        "            receivers=jnp.asarray(G.edge_index[1]))\n",
        "\n",
        "def jraph_collate(batch: List[torch_geometric.data.Data]) -> Generator[jraph.GraphsTuple, None, None]:\n",
        "  \"\"\"\n",
        "  Collate function specifies how to combine a list of data samples into a batch.\n",
        "  \"\"\"\n",
        "  return next(jraph.dynamically_batch(\n",
        "        jraph_iterate(batch),\n",
        "        n_node=batch_size * MAX_NUM_NODES + 1, # Plus one for the extra padding node.\n",
        "        n_edge=batch_size * MAX_NUM_EDGES,\n",
        "        n_graph=BATCH_SIZE + 1))\n",
        "\n",
        "# Create pytorch data loader with custom collate function\n",
        "train_loader = DataLoader(train_dataset, batch_size=BATCH_SIZE, collate_fn=jraph_collate, shuffle=True)\n",
        "val_loader = DataLoader(val_dataset, batch_size=3BATCH_SIZE2, collate_fn=jraph_collate, shuffle=False)\n",
        "test_loader = DataLoader(test_dataset, batch_size=BATCH_SIZE, collate_fn=jraph_collate, shuffle=False)"
      ],
      "metadata": {
        "id": "7lplsc9JjkBI"
      },
      "execution_count": null,
      "outputs": []
    },
    {
      "cell_type": "markdown",
      "source": [
        "# Hyperbolic embedding\n",
        "\n",
        "> <img src=\"https://cdn-icons-png.freepik.com/256/8089/8089604.png?semt=ais_hybrid\" alt=\"drawing\" width=\"100\"/> <br>\n",
        "> * implement a function that embedds a QM9 graph `G` into the Lorentz model of hyperbolic space (i.e. assign a hyperbolic target to each node based on its features `G.x`)\n",
        "> * visualize the embedding for an example graph embedded into hyperbolic 2-space\n",
        "\n",
        "**TIP:** Note that the definitions in [Liu et al. 2019] and the implementation in `Morphomatics` differ in the choice of symmetry axis of the hyperboloid, i.e. $(1, 0, ..., 0)$ versus $(0, ..., 0, 1)$, respectively."
      ],
      "metadata": {
        "id": "cGQ4btnhMTan"
      }
    },
    {
      "cell_type": "code",
      "source": [
        "from morphomatics.manifold import HyperbolicSpace\n",
        "import jraph\n",
        "\n",
        "def embedd(G: jraph.GraphsTuple, d: int) -> jraph.GraphsTuple:\n",
        "  x = G.x\n",
        "  # TODO: implement a function that embedds graph G into hyperbolic d-space\n",
        "  return G._replace(nodes=x)"
      ],
      "metadata": {
        "id": "aVnM7yYAMazz"
      },
      "execution_count": null,
      "outputs": []
    },
    {
      "cell_type": "markdown",
      "source": [
        "# Hyperbolic graph convolutional layer\n",
        "\n",
        "\n",
        "> <img src=\"https://cdn-icons-png.freepik.com/256/8089/8089604.png?semt=ais_hybrid\" alt=\"drawing\" width=\"100\"/> <br>\n",
        "> * Implement the hyperbolic graph convolution layer introduced in [Liu et al. 2019]\n",
        "> * Create and run a unit test that checks the equivariance w.r.t. node permutations of your module\n",
        "\n",
        "\n",
        "> Liu, Q., Nickel, M., & Kiela, D.:</br>\n",
        "> **[Hyperbolic graph neural networks.](https://arxiv.org/pdf/1910.12892)**  \n",
        "> Advances in neural information processing systems, 32, 2019.</br>\n",
        "> [![Preprint](https://img.shields.io/badge/arXiv-2007.05275-red)](http://arxiv.org/abs/1910.12892)"
      ],
      "metadata": {
        "id": "SYoQ3KsJdZ2Z"
      }
    },
    {
      "cell_type": "code",
      "source": [
        "import flax.linen as nn\n",
        "\n",
        "class HyperbolicGraphConvolution(nn.Module):\n",
        "    psi: nn.Module\n",
        "    phi: nn.Module\n",
        "\n",
        "    @nn.compact\n",
        "    def __call__(self, G: jraph.GraphsTuple) -> jraph.GraphsTuple:\n",
        "      x = G.nodes\n",
        "\n",
        "      # TODO: Your code here\n",
        "\n",
        "      return G._replace(nodes=x)"
      ],
      "metadata": {
        "id": "fa6spHY2s9lj"
      },
      "execution_count": null,
      "outputs": []
    },
    {
      "cell_type": "markdown",
      "source": [
        "# Hyperbolic graph convolutional network\n",
        "\n",
        "\n",
        "> <img src=\"https://cdn-icons-png.freepik.com/256/8089/8089604.png?semt=ais_hybrid\" alt=\"drawing\" width=\"100\"/> <br>\n",
        "> * Implement an __invariant__ graph neural network based on your hyperbolic, convolutional layer that regresses the graph-level target `G.y`\n"
      ],
      "metadata": {
        "id": "mB_ic_FwuJPi"
      }
    },
    {
      "cell_type": "code",
      "source": [
        "class HyperbolicGCN(nn.Module):\n",
        "    num_layers: int\n",
        "    hidden_size: int\n",
        "\n",
        "    @nn.compact\n",
        "    def __call__(self, G: jraph.GraphsTuple) -> jraph.GraphsTuple:\n",
        "        # TODO: implement a GCN for graph-level prediction\n",
        "        graph_embedding = None\n",
        "\n",
        "        # Regression head\n",
        "        return nn.Dense(1)(graph_embedding)"
      ],
      "metadata": {
        "id": "C6nZ72rVu30Q"
      },
      "execution_count": null,
      "outputs": []
    },
    {
      "cell_type": "markdown",
      "source": [
        "# Predicting the electric dipole moment\n",
        "\n",
        "\n",
        "> <img src=\"https://cdn-icons-png.freepik.com/256/8089/8089604.png?semt=ais_hybrid\" alt=\"drawing\" width=\"100\"/> <br>\n",
        "> * Train your model on (a subset of) the QM9 dataset\n",
        "> * evaluate the performance of your model\n"
      ],
      "metadata": {
        "id": "D0stPFp-u4eb"
      }
    },
    {
      "cell_type": "code",
      "source": [],
      "metadata": {
        "id": "FXmQv4qbx9nI"
      },
      "execution_count": null,
      "outputs": []
    }
  ]
}